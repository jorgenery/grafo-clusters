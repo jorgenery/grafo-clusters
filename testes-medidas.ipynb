{
 "cells": [
  {
   "cell_type": "code",
   "execution_count": 1,
   "id": "01bda10d",
   "metadata": {},
   "outputs": [
    {
     "name": "stderr",
     "output_type": "stream",
     "text": [
      "d:\\Python\\Python311\\Lib\\site-packages\\tslearn\\bases\\bases.py:15: UserWarning: h5py not installed, hdf5 features will not be supported.\n",
      "Install h5py to use hdf5 features: http://docs.h5py.org/\n",
      "  warn(h5py_msg)\n"
     ]
    }
   ],
   "source": [
    "# Carregando Bibliotegas e Funções\n",
    "import numpy as np\n",
    "from sklearn.metrics import pairwise_distances\n",
    "from geopy.distance import great_circle\n",
    "from grakel import graph_from_networkx, GraphKernel\n",
    "import networkx as nx\n",
    "from math import radians, sin, cos, sqrt, atan2\n",
    "from fastdtw import fastdtw\n",
    "from networkx.algorithms import isomorphism\n",
    "from networkx.algorithms.similarity import optimize_graph_edit_distance\n",
    "from concurrent.futures import ThreadPoolExecutor, TimeoutError\n",
    "from sklearn.cluster import KMeans\n",
    "from sklearn.metrics import silhouette_score, davies_bouldin_score, calinski_harabasz_score\n",
    "from sklearn.preprocessing import normalize, binarize\n",
    "from sklearn.manifold import MDS\n",
    "from scipy.spatial.distance import cdist\n",
    "from scipy.spatial.distance import cosine, cityblock, jaccard\n",
    "from tslearn.metrics import dtw as ts_dtw\n",
    "import Levenshtein as lev"
   ]
  },
  {
   "cell_type": "code",
   "execution_count": 247,
   "id": "4c688b98",
   "metadata": {},
   "outputs": [],
   "source": [
    "def gerar_grafos_com_coincidencia():\n",
    "    G1 = nx.DiGraph()\n",
    "    G1.add_node(\"A\",label=\"A\")\n",
    "    G1.add_node(\"B\",label=\"B\")\n",
    "    G1.add_node(\"C\",label=\"C\")\n",
    "    G1.add_node(\"D\",label=\"D\")\n",
    "    G1.add_node(\"E\",label=\"E\")\n",
    "    G1.add_node(\"F\",label=\"F\")\n",
    "    \n",
    "    # Adicionar nós e arestas compartilhadas\n",
    "    G1.add_edge(\"A\", \"B\")\n",
    "    G1.add_edge(\"B\", \"C\")\n",
    "    G1.add_edge(\"C\", \"D\")\n",
    "    \n",
    "    # Adicionar nós e arestas exclusivas ao G1\n",
    "    G1.add_edge(\"D\", \"E\")\n",
    "    G1.add_edge(\"E\", \"F\")\n",
    "\n",
    "    nx.set_node_attributes(G1, {\"A\": \"A\", \"B\": \"B\", \"C\": \"C\", \"D\": \"D\", \"E\":\"E\", \"F\":\"F\"}, \"label\")\n",
    "    # Criar o segundo grafo\n",
    "    G2 = nx.DiGraph()\n",
    "    G2.add_node(\"A\",label=\"A\")\n",
    "    G2.add_node(\"B\",label=\"B\")\n",
    "    G2.add_node(\"C\",label=\"C\")\n",
    "    G2.add_node(\"D\",label=\"D\")\n",
    "    G2.add_node(\"G\",label=\"G\")\n",
    "    G2.add_node(\"H\",label=\"H\")  \n",
    "    G2.add_node(\"I\",label=\"I\")\n",
    "    # Adicionar nós e arestas compartilhadas\n",
    "    G2.add_edge(\"A\", \"B\")\n",
    "    G2.add_edge(\"B\", \"C\")\n",
    "    G2.add_edge(\"C\", \"D\")\n",
    "    \n",
    "    # Adicionar nós e arestas exclusivas ao G2\n",
    "    G2.add_edge(\"D\", \"G\")\n",
    "    G2.add_edge(\"G\", \"H\")\n",
    "    G2.add_edge(\"H\", \"I\")\n",
    "    nx.set_node_attributes(G2, {\"A\": \"A\", \"B\": \"B\", \"C\": \"C\", \"D\": \"D\", \"G\":\"G\", \"H\":\"H\",\"I\":\"I\"}, \"label\")\n",
    "    return G1, G2"
   ]
  },
  {
   "cell_type": "code",
   "execution_count": 248,
   "id": "2b30c65e",
   "metadata": {},
   "outputs": [],
   "source": [
    "def gerar_grafos_subgrafo():\n",
    "    G1 = nx.DiGraph()\n",
    "    G1.add_node(\"A\",label=\"A\")\n",
    "    G1.add_node(\"B\",label=\"B\")\n",
    "    G1.add_node(\"C\",label=\"C\")\n",
    "    G1.add_node(\"D\",label=\"D\")\n",
    "    G1.add_node(\"E\",label=\"E\")\n",
    "    G1.add_node(\"F\",label=\"F\")\n",
    "    \n",
    "    # Adicionar nós e arestas compartilhadas\n",
    "    G1.add_edge(\"A\", \"B\")\n",
    "    G1.add_edge(\"B\", \"C\")\n",
    "    G1.add_edge(\"C\", \"D\")\n",
    "    \n",
    "    # Adicionar nós e arestas exclusivas ao G1\n",
    "    G1.add_edge(\"D\", \"E\")\n",
    "    G1.add_edge(\"E\", \"F\")\n",
    "\n",
    "    nx.set_node_attributes(G1, {\"A\": \"A\", \"B\": \"B\", \"C\": \"C\", \"D\": \"D\", \"E\":\"E\", \"F\":\"F\"}, \"label\")\n",
    "    # Criar o segundo grafo\n",
    "    G2 = nx.DiGraph()\n",
    "    G2.add_node(\"A\",label=\"A\")\n",
    "    G2.add_node(\"B\",label=\"B\")\n",
    "    G2.add_node(\"C\",label=\"C\")\n",
    "    G2.add_node(\"D\",label=\"D\")\n",
    "   \n",
    "    # Adicionar nós e arestas compartilhadas\n",
    "    G2.add_edge(\"A\", \"B\")\n",
    "    G2.add_edge(\"B\", \"C\")\n",
    "    G2.add_edge(\"C\", \"D\")\n",
    "    \n",
    "    # Adicionar nós e arestas exclusivas ao G2\n",
    " \n",
    "    nx.set_node_attributes(G2, {\"A\": \"A\", \"B\": \"B\", \"C\": \"C\", \"D\": \"D\"}, \"label\")\n",
    "    return G1, G2"
   ]
  },
  {
   "cell_type": "code",
   "execution_count": 249,
   "id": "6170fc09",
   "metadata": {},
   "outputs": [],
   "source": [
    "def distancia_edit2(g1, g2):\n",
    "    def compute_edit_distance():\n",
    "        gen = optimize_graph_edit_distance(g1, g2)\n",
    "        return next(gen, float('inf'))  # se não vier nada, retorna inf\n",
    "\n",
    "    with ThreadPoolExecutor(max_workers=1) as executor:\n",
    "        future = executor.submit(compute_edit_distance)\n",
    "        try:\n",
    "            result = future.result(timeout=3.0)\n",
    "            return result if result is not None else float('inf')\n",
    "        except TimeoutError:\n",
    "            print(\"⚠️ Timeout ao calcular distância de edição\")\n",
    "            return float('inf')\n",
    "        except Exception as e:\n",
    "            print(f\"❌ Erro ao calcular distância de edição: {e}\")\n",
    "            return float('inf')"
   ]
  },
  {
   "cell_type": "code",
   "execution_count": 250,
   "id": "d084cc5d",
   "metadata": {},
   "outputs": [],
   "source": [
    "def distancia_edit(g1, g2):\n",
    "    ged = nx.graph_edit_distance(g1, g2, roots=None, timeout=3.0)\n",
    "    return ged"
   ]
  },
  {
   "cell_type": "code",
   "execution_count": 251,
   "id": "70244e7d",
   "metadata": {},
   "outputs": [],
   "source": [
    "def distancia_edicao_grafos(g1, g2):\n",
    "    \"\"\"\n",
    "    Calcula a distância de edição entre dois grafos.\n",
    "    \"\"\"\n",
    "    # Converter arestas para conjuntos para facilitar a comparação\n",
    "    edges_g1 = set(g1.edges())\n",
    "    edges_g2 = set(g2.edges())\n",
    "\n",
    "    # Operações de edição\n",
    "    arestas_removidas = edges_g1 - edges_g2  # Arestas em g1 que não estão em g2\n",
    "    arestas_adicionadas = edges_g2 - edges_g1  # Arestas em g2 que não estão em g1\n",
    "\n",
    "    # Distância de edição é a soma das operações\n",
    "    distancia = len(arestas_removidas) + len(arestas_adicionadas)\n",
    "\n",
    "    return distancia"
   ]
  },
  {
   "cell_type": "code",
   "execution_count": 252,
   "id": "ab3fa63c",
   "metadata": {},
   "outputs": [
    {
     "name": "stdout",
     "output_type": "stream",
     "text": [
      "Grafo1 ['A', 'B', 'C', 'D', 'E', 'F']\n",
      "Grafo2 ['A', 'B', 'C', 'D', 'G', 'H', 'I']\n",
      "Distância de Edição (Método 1): 2.0\n",
      "Distância de Edição (Método 2): 2.0\n",
      "Distância de Edição (Método 3): 5\n"
     ]
    }
   ],
   "source": [
    "grafo1, grafo2 = gerar_grafos_com_coincidencia()\n",
    "print('Grafo1', grafo1.nodes())\n",
    "print('Grafo2',grafo2.nodes())\n",
    "edit_distance = distancia_edit(grafo1, grafo2)\n",
    "edit_distance2 = distancia_edit2(grafo1, grafo2)\n",
    "edit_distance3 = distancia_edicao_grafos(grafo1, grafo2)\n",
    "print(f\"Distância de Edição (Método 1): {edit_distance}\")\n",
    "print(f\"Distância de Edição (Método 2): {edit_distance2}\")\n",
    "print(f\"Distância de Edição (Método 3): {edit_distance3}\")"
   ]
  },
  {
   "cell_type": "code",
   "execution_count": 206,
   "id": "0020004e",
   "metadata": {},
   "outputs": [],
   "source": [
    "def jaccard_similarity(g1, g2):\n",
    "    edges_g1 = set(g1.edges())\n",
    "    edges_g2 = set(g2.edges())\n",
    "\n",
    "    # Calcular a interseção e a união dos conjuntos de arestas\n",
    "    intersecao = len(edges_g1.intersection(edges_g2))\n",
    "    uniao = len(edges_g1.union(edges_g2))\n",
    "\n",
    "    # Evitar divisão por zero\n",
    "    if uniao == 0:\n",
    "        return 0.0\n",
    "\n",
    "    # Similaridade de Jaccard\n",
    "    return intersecao / uniao"
   ]
  },
  {
   "cell_type": "code",
   "execution_count": 253,
   "id": "e8953819",
   "metadata": {},
   "outputs": [
    {
     "name": "stdout",
     "output_type": "stream",
     "text": [
      "Grafo1 ['A', 'B', 'C', 'D', 'E', 'F']\n",
      "Grafo2 ['A', 'B', 'C', 'D', 'G', 'H', 'I']\n",
      "Distância de jaccard (Método 1): 0.375\n"
     ]
    }
   ],
   "source": [
    "print('Grafo1', grafo1.nodes())\n",
    "print('Grafo2',grafo2.nodes())\n",
    "edit_distance = jaccard_similarity(grafo1, grafo2)\n",
    "print(f\"Distância de jaccard (Método 1): {edit_distance}\")"
   ]
  },
  {
   "cell_type": "code",
   "execution_count": 254,
   "id": "761ab4a6",
   "metadata": {},
   "outputs": [],
   "source": [
    "def graph_kernel(g1, g2, label=\"label\"):\n",
    "    # Converter grafos NetworkX para formato utilizado pelo GraKeL\n",
    "    G1_grakel = list(graph_from_networkx([g1], node_labels_tag=label, edge_labels_tag=None))\n",
    "    G2_grakel = list(graph_from_networkx([g2], node_labels_tag=label, edge_labels_tag=None))\n",
    "    # Escolher um kernel, por exemplo, o Weisfeiler-Lehman kernel\n",
    "    gk = GraphKernel(kernel=[\"weisfeiler_lehman\", \"subtree_wl\"])\n",
    "    # Calcular similaridade\n",
    "    sim_matrix = gk.fit_transform([G1_grakel[0], G2_grakel[0]])\n",
    "    return sim_matrix[0,1] "
   ]
  },
  {
   "cell_type": "code",
   "execution_count": 255,
   "id": "534967ba",
   "metadata": {},
   "outputs": [
    {
     "name": "stdout",
     "output_type": "stream",
     "text": [
      "Grafo1 ['A', 'B', 'C', 'D', 'E', 'F']\n",
      "Grafo2 ['A', 'B', 'C', 'D', 'G', 'H', 'I']\n",
      "Distância de kernel (Método 1): 10.0\n"
     ]
    }
   ],
   "source": [
    "print('Grafo1', grafo1.nodes())\n",
    "print('Grafo2',grafo2.nodes())\n",
    "edit_distance = graph_kernel(grafo1, grafo2)\n",
    "print(f\"Distância de kernel (Método 1): {edit_distance}\")"
   ]
  },
  {
   "cell_type": "code",
   "execution_count": 267,
   "id": "53988eb1",
   "metadata": {},
   "outputs": [],
   "source": [
    "def subgraph_similarity(g1, g2):\n",
    "    GM = isomorphism.GraphMatcher(g1, g2)\n",
    "    # Tenta encontrar uma correspondência de subgrafos\n",
    "    matches = list(GM.subgraph_isomorphisms_iter())\n",
    "    if not matches:\n",
    "        return 0.0\n",
    "    \n",
    "    # Pega o melhor match\n",
    "    best_match = max(matches, key=lambda m: len(m))\n",
    "    match_size = len(best_match)\n",
    "    \n",
    "    # Normaliza pela quantidade de nós do menor grafo\n",
    "    min_nodes = min(len(g1.nodes), len(g2.nodes))\n",
    "    return match_size / min_nodes\n",
    "\n",
    "def subgraph_similarity_rapida(g1, g2):\n",
    "    # Interseção e união dos nós\n",
    "    nodes_g1 = set(g1.nodes())\n",
    "    nodes_g2 = set(g2.nodes())\n",
    "    node_intersection = len(nodes_g1 & nodes_g2)\n",
    "    node_union = len(nodes_g1 | nodes_g2)\n",
    "    \n",
    "    # Interseção e união das arestas (como tuplas de pares)\n",
    "    edges_g1 = set(g1.edges())\n",
    "    edges_g2 = set(g2.edges())\n",
    "    edge_intersection = len(edges_g1 & edges_g2)\n",
    "    edge_union = len(edges_g1 | edges_g2)\n",
    "\n",
    "    # Similaridade baseada na média das Jaccards de nós e arestas\n",
    "    node_sim = node_intersection / node_union if node_union else 0\n",
    "    edge_sim = edge_intersection / edge_union if edge_union else 0\n",
    "\n",
    "    return (node_sim + edge_sim) / 2\n",
    "\n",
    "def similaridade_grafos(g1, g2, atributo='pos'):\n",
    "    pos_g1 = nx.get_node_attributes(g1, atributo)\n",
    "    pos_g2 = nx.get_node_attributes(g2, atributo)\n",
    "    ponto = 0\n",
    "    for node1 in pos_g1:\n",
    "        coords_g1=pos_g1[node1]\n",
    "        existe_ponto = False\n",
    "        for node2 in pos_g2:\n",
    "            coords_g2 = pos_g2[node2]\n",
    "            km = great_circle(coords_g1,coords_g2).kilometers\n",
    "            if km<=0.2:\n",
    "                existe_ponto=True\n",
    "                break\n",
    "        if existe_ponto:\n",
    "             ponto = ponto + 1\n",
    "    return ponto / len(pos_g1) if len(pos_g1) > 0 else 0"
   ]
  },
  {
   "cell_type": "code",
   "execution_count": 268,
   "id": "62566eae",
   "metadata": {},
   "outputs": [
    {
     "name": "stdout",
     "output_type": "stream",
     "text": [
      "Grafo1 ['A', 'B', 'C', 'D', 'E', 'F']\n",
      "Grafo2 ['A', 'B', 'C', 'D']\n",
      "Distância de subgrafo (Método 1): 1.0\n",
      "Distância de subgrafo (Método 2): 0.6333333333333333\n",
      "Distância de subgrafo (Método 3): 0\n"
     ]
    }
   ],
   "source": [
    "grafo1, grafo2 = gerar_grafos_subgrafo()\n",
    "print('Grafo1', grafo1.nodes())\n",
    "print('Grafo2',grafo2.nodes())\n",
    "edit_distance = subgraph_similarity(grafo1, grafo2)\n",
    "edit_distance2 = subgraph_similarity_rapida(grafo1, grafo2)\n",
    "edit_distance3 = similaridade_grafos(grafo1, grafo2)\n",
    "print(f\"Distância de subgrafo (Método 1): {edit_distance}\")\n",
    "print(f\"Distância de subgrafo (Método 2): {edit_distance2}\")\n",
    "print(f\"Distância de subgrafo (Método 3): {edit_distance3}\")"
   ]
  },
  {
   "cell_type": "code",
   "execution_count": null,
   "id": "2edbadad",
   "metadata": {},
   "outputs": [],
   "source": []
  }
 ],
 "metadata": {
  "kernelspec": {
   "display_name": "Python 3",
   "language": "python",
   "name": "python3"
  },
  "language_info": {
   "codemirror_mode": {
    "name": "ipython",
    "version": 3
   },
   "file_extension": ".py",
   "mimetype": "text/x-python",
   "name": "python",
   "nbconvert_exporter": "python",
   "pygments_lexer": "ipython3",
   "version": "3.11.4"
  }
 },
 "nbformat": 4,
 "nbformat_minor": 5
}
